{
 "cells": [
  {
   "cell_type": "markdown",
   "metadata": {},
   "source": [
    "{\n",
    " \"cells\": [\n",
    "    {\n",
    "        \"cell_type\": \"markdowm\",\n",
    "        \"metadata\": {},\n",
    "        \"source\": [\n",
    "            \"<center>\\n\",\n",
    "            \" <img src=\\\"https://cf-courses-data.s3.us.cloud-object-storage.appdomain.cloud/IBMDeveloperSkillsNetworl-DS01=5EN-SkillsNetwork/labs/module2/images/SN_web_lightmode.png\\\" width=\\\"300\\\" alt=\\\"cognitiveclass.ai logo\\\">\\n\", \n",
    "            \"</center>\\n\"\n",
    "        ]\n",
    "    }\n",
    " ]\n",
    "},"
   ]
  },
  {
   "cell_type": "markdown",
   "metadata": {},
   "source": [
    "{\n",
    "    \"cell_type\": \"markdown\",\n",
    "    \"metadata\": {},\n",
    "    \"source\": [\n",
    "        \"#### **Exercise 2 - Create a markdown cell the title of the notebook. (1 pt)**\\n\"\n",
    "    ]\n",
    "},"
   ]
  },
  {
   "cell_type": "markdown",
   "metadata": {},
   "source": [
    "{\n",
    "    \"cell_type\": \"markdown\",\n",
    "    \"metadata\": {\n",
    "        \"tags\": []\n",
    "    },\n",
    "    \"source\": [\n",
    "        \"# Data Science Tools and Ecosystem\\n\"\n",
    "    ]\n",
    "},"
   ]
  },
  {
   "cell_type": "markdown",
   "metadata": {},
   "source": [
    "{\n",
    "    \"cell_type\": \"markdown\",\n",
    "    \"metadata\": {},\n",
    "    \"source\": [\n",
    "        \"#### **Exercise 3 - Create a markdown cell for an introduction. (1 pt)**\"\n",
    "    ]\n",
    "},"
   ]
  },
  {
   "cell_type": "markdown",
   "metadata": {},
   "source": [
    "{\n",
    "    \"cell_type\": \"markdown\",\n",
    "    \"metadata\": {},\n",
    "    \"source\": [\n",
    "        \"In this notebook, Data Science Tools and Ecosystem are summarized.\"\n",
    "    ]\n",
    "},"
   ]
  },
  {
   "cell_type": "markdown",
   "metadata": {},
   "source": [
    "{\n",
    "    \"cell_type\": \"markdown\",\n",
    "    \"metadata\": {},\n",
    "    \"source\": [\n",
    "        \"#### **Exercise 4 - Create a markdown cell to list data science language. (3 pts)**\"\n",
    "    ]\n",
    "},"
   ]
  },
  {
   "cell_type": "markdown",
   "metadata": {},
   "source": [
    "{\n",
    "    \"cell_type\": \"markdown\",\n",
    "    \"metadata\": {},\n",
    "    \"source\": [\n",
    "        \"Some of the popular languages that Data Scientists use are:\\n\",\n",
    "       \"\\n\",\n",
    "       \"1. R\\n\",\n",
    "       \"2. Python\\n\",\n",
    "       \"3. SQL\\n\",\n",
    "       \"4. Julia\\n\",\n",
    "    ]\n",
    "},"
   ]
  },
  {
   "cell_type": "markdown",
   "metadata": {},
   "source": [
    "{\n",
    "    \"cell_type\": \"markdown\",\n",
    "    \"metadata\": {},\n",
    "    \"source\": [\n",
    "        \"#### **Exercise 5 - Create a markdown cell to list data Science libraries. (3 pts)**\"\n",
    "    ]\n",
    "},"
   ]
  },
  {
   "cell_type": "markdown",
   "metadata": {},
   "source": [
    "{\n",
    "    \"cell_type\": \"markdown\",\n",
    "    \"metadata\": {},\n",
    "    \"source\": [\n",
    "        \"Some of the commonly used libraries used by Data Scientists include:\\n\",\n",
    "        \"\\n\",\n",
    "        \"1. pandas\\n\",\n",
    "        \"2. numpy\\n\",\n",
    "        \"3. matplotlib\\n\",\n",
    "    ]\n",
    "},"
   ]
  },
  {
   "cell_type": "markdown",
   "metadata": {},
   "source": [
    "{\n",
    "    \"cell_type\": \"markdown\",\n",
    "    \"metadata\": {},\n",
    "    \"source\": [\n",
    "        \"#### **Exercise 6 - Create a markdown cell with a table f Data Science tools. (3 pts)**\"\n",
    "    ]\n",
    "},"
   ]
  },
  {
   "cell_type": "markdown",
   "metadata": {},
   "source": [
    "{\n",
    "    \"cell_type\": \"markdown\",\n",
    "    \"metadata\": {},\n",
    "    \"soource\": [\n",
    "        \"| Data Science Tools |\\n\",\n",
    "        \"|:------------------:|\\n\",\n",
    "        \"|Jupyterlab Notebook |\\n\",\n",
    "        \"|    Visual Studios  |\\n\",\n",
    "        \"|        Spyder      |\\n\",\n",
    "    ]\n",
    "},"
   ]
  },
  {
   "cell_type": "markdown",
   "metadata": {},
   "source": [
    "{\n",
    "   \"cell_type\": \"markdown\",\n",
    "   \"metadata\": {},\n",
    "   \"source\": [\n",
    "    \"#### **Exercise 7 - Create a markdown cell introducing arithmetic expression examples. (1 pt)**\"\n",
    "   ]\n",
    "},"
   ]
  },
  {
   "cell_type": "markdown",
   "metadata": {},
   "source": [
    "{\n",
    "   \"cell_type\": \"markdown\",\n",
    "   \"metadata\": {},\n",
    "   \"source\": [\n",
    "    \"### Below are a few examples of evaluating arithmetic expressions in Python.\"\n",
    "   ]\n",
    "},"
   ]
  },
  {
   "cell_type": "markdown",
   "metadata": {},
   "source": [
    "{\n",
    "   \"cell_type\": \"markdown\",\n",
    "   \"metadata\": {},\n",
    "   \"source\": [\n",
    "    \"#### **Exercise 8 - Create a code cell to multiply and add numbers. (2 pts)**\"\n",
    "   ]\n",
    "},"
   ]
  },
  {
   "cell_type": "code",
   "execution_count": null,
   "metadata": {},
   "outputs": [],
   "source": [
    "{\n",
    "   \"cell_type\": \"code\",\n",
    "   \"execution_count\": 2,\n",
    "   \"metadata\": {\n",
    "    \"tags\": []\n",
    "   },\n",
    "   \"outputs\": [\n",
    "    {\n",
    "     \"data\": {\n",
    "      \"text/plain\": [\n",
    "       \"17\"\n",
    "      ]\n",
    "     },\n",
    "     \"execution_count\": 2,\n",
    "     \"metadata\": {},\n",
    "     \"output_type\": \"execute_result\"\n",
    "    }\n",
    "   ],\n",
    "   \"source\": [\n",
    "    \"# This is a simple arithmetic expression to multiply then add integers\\n\",\n",
    "    \"(3*4)+5\"\n",
    "   ]\n",
    "},"
   ]
  },
  {
   "cell_type": "markdown",
   "metadata": {},
   "source": [
    "{\n",
    "   \"cell_type\": \"markdown\",\n",
    "   \"metadata\": {},\n",
    "   \"source\": [\n",
    "    \"#### **Exercise 9 - Create a code cell to convert minutes to hours. (2 pts)**\"\n",
    "   ]\n",
    "},"
   ]
  },
  {
   "cell_type": "code",
   "execution_count": null,
   "metadata": {},
   "outputs": [],
   "source": [
    "{\n",
    "   \"cell_type\": \"code\",\n",
    "   \"execution_count\": 3,\n",
    "   \"metadata\": {\n",
    "    \"tags\": []\n",
    "   },\n",
    "   \"outputs\": [\n",
    "    {\n",
    "     \"data\": {\n",
    "      \"text/plain\": [\n",
    "       \"3.3333333333333335\"\n",
    "      ]\n",
    "     },\n",
    "     \"execution_count\": 3,\n",
    "     \"metadata\": {},\n",
    "     \"output_type\": \"execute_result\"\n",
    "    }\n",
    "   ],\n",
    "   \"source\": [\n",
    "    \"# This will convert 200 minutes to hours by diving by 60\\n\",\n",
    "    \"200/60\"\n",
    "   ]\n",
    "},"
   ]
  },
  {
   "cell_type": "markdown",
   "metadata": {},
   "source": [
    "{\n",
    "   \"cell_type\": \"markdown\",\n",
    "   \"metadata\": {},\n",
    "   \"source\": [\n",
    "    \"#### **Exercise 10 - Insert a markdown cell to list Objectives. (3 pts)**\"\n",
    "   ]\n",
    "},"
   ]
  },
  {
   "cell_type": "markdown",
   "metadata": {},
   "source": [
    "{\n",
    "   \"cell_type\": \"markdown\",\n",
    "   \"metadata\": {},\n",
    "   \"source\": [\n",
    "    \"**Objectives**\\n\",\n",
    "    \"* List Popular languages for Data Science.\\n\",\n",
    "    \"* List Popular libraries used for Data Science.\\n\",\n",
    "    \"* Create a code cell to convert minutes to hours.\"\n",
    "   ]\n",
    "},"
   ]
  },
  {
   "cell_type": "markdown",
   "metadata": {},
   "source": [
    "{\n",
    "   \"cell_type\": \"markdown\",\n",
    "   \"metadata\": {\n",
    "    \"tags\": []\n",
    "   },\n",
    "   \"source\": [\n",
    "    \"#### **Exercise 11 - Create a markdown to indicate the Author's name**\"\n",
    "   ]\n",
    "},"
   ]
  },
  {
   "cell_type": "markdown",
   "metadata": {},
   "source": [
    "{\n",
    "   \"cell_type\": \"markdown\",\n",
    "   \"metadata\": {},\n",
    "   \"source\": [\n",
    "    \"## Author\\n\",\n",
    "    \"Brian Santana\"\n",
    "   ]\n",
    "},"
   ]
  },
  {
   "cell_type": "markdown",
   "metadata": {},
   "source": [
    "{\n",
    "   \"cell_type\": \"markdown\",\n",
    "   \"metadata\": {},\n",
    "   \"source\": [\n",
    "    \"#### **Exercise 12 - Share your notebook through GitHub**\"\n",
    "   ]\n",
    "},"
   ]
  },
  {
   "cell_type": "markdown",
   "metadata": {},
   "source": [
    "{\n",
    "   \"cell_type\": \"markdown\",\n",
    "   \"metadata\": {\n",
    "    \"tags\": []\n",
    "   },\n",
    "   \"source\": [\n",
    "    \"[https://github.com/DRAGONZORIA/IBM-EcoSystem.git](https://github.com/DRAGONZORIA/IBM-EcoSystem.git)\"\n",
    "   ]\n",
    "},"
   ]
  },
  {
   "cell_type": "markdown",
   "metadata": {},
   "source": [
    "{\n",
    "   \"cell_type\": \"markdown\",\n",
    "   \"metadata\": {},\n",
    "   \"source\": [\n",
    "    \"#### **Exercise 13 - Take a screenshot of the first page of the notebook**\"\n",
    "   ]\n",
    "},"
   ]
  },
  {
   "cell_type": "markdown",
   "metadata": {},
   "source": [
    "{\n",
    "   \"cell_type\": \"code\",\n",
    "   \"execution_count\": Full,\n",
    "   \"metadata\": {},\n",
    "   \"outputs\": [],\n",
    "   \"source\": []\n",
    "  }\n",
    "{\n",
    " \"metadata\": {\n",
    "  \"kernelspec\": {\n",
    "   \"display_name\": \"Python\",\n",
    "   \"language\": \"python\",\n",
    "   \"name\": \"conda-env-python-py\"\n",
    "  },\n",
    "  \"language_info\": {\n",
    "   \"codemirror_mode\": {\n",
    "    \"name\": \"ipython\",\n",
    "    \"version\": 3\n",
    "   },\n",
    "   \"file_extension\": \".py\",\n",
    "   \"mimetype\": \"text/x-python\",\n",
    "   \"name\": \"python\",\n",
    "   \"nbconvert_exporter\": \"python\",\n",
    "   \"pygments_lexer\": \"ipython3\",\n",
    "   \"version\": \"3.9.6\"\n",
    "  }\n",
    " },\n",
    " \"nbformat\": 4,\n",
    " \"nbformat_minor\": 4\n",
    "}"
   ]
  }
 ],
 "metadata": {
  "kernelspec": {
   "display_name": "Python 3",
   "language": "python",
   "name": "python3"
  },
  "language_info": {
   "name": "python",
   "version": "3.9.6"
  }
 },
 "nbformat": 4,
 "nbformat_minor": 2
}
